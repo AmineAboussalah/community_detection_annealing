{
 "cells": [
  {
   "cell_type": "code",
   "execution_count": 25,
   "metadata": {},
   "outputs": [],
   "source": [
    "import sys, os\n",
    "import numpy as np\n",
    "import pandas as pd\n",
    "import matplotlib.pyplot as plt\n",
    "\n",
    "import time\n",
    "\n",
    "### Use NetworkX graphic package to create a signed network\n",
    "import networkx as nx"
   ]
  },
  {
   "cell_type": "code",
   "execution_count": 26,
   "metadata": {},
   "outputs": [],
   "source": [
    "dataset = 'sp100' # values: 'asset_class','ftse','sectors','sp100'\n",
    "\n",
    "os.chdir(\"../data_modified\")\n",
    "\n",
    "corr_tensor = np.load('%s_corr.npy' % (dataset))\n",
    "dates = np.load('%s_dates.npy' % (dataset))\n",
    "nodes = np.load('%s_nodes.npy' % (dataset))\n",
    "\n",
    "num_examples = corr_tensor.shape[0] #number of dates\n",
    "dim = corr_tensor.shape[1] #number of assets"
   ]
  },
  {
   "cell_type": "code",
   "execution_count": 27,
   "metadata": {},
   "outputs": [],
   "source": [
    "# Helper Functions\n",
    "\n",
    "def make_graph(corr_mat, node_labels, graph_type):\n",
    "\n",
    "    G = nx.Graph()\n",
    "    G.add_nodes_from(node_labels)\n",
    "    dim = corr_mat.shape[0]\n",
    "\n",
    "    if not dim == len(node_labels):\n",
    "        raise ValueError('number node labels not = corr matrix dimensions')\n",
    "\n",
    "    if graph_type=='signed':\n",
    "        for i in range(dim):\n",
    "            for j in range(i+1, dim):\n",
    "                if corr_mat[i,j] < 0:\n",
    "                    G.add_edge(node_labels[i], node_labels[j], sign=-1)\n",
    "                elif corr_mat[i,j] > 0:\n",
    "                    G.add_edge(node_labels[i], node_labels[j], sign=1)\n",
    "    \n",
    "    if graph_type=='corr':\n",
    "        for i in range(dim):\n",
    "            for j in range(i+1, dim):\n",
    "                if corr_mat[i,j] != 0.0000:\n",
    "                    G.add_edge(node_labels[i], node_labels[j])\n",
    "    \n",
    "    if graph_type=='uncorr':\n",
    "        for i in range(dim):\n",
    "            for j in range(i+1, dim):\n",
    "                if corr_mat[i,j] == 0.000:\n",
    "                    G.add_edge(node_labels[i], node_labels[j])\n",
    "    \n",
    "    density = (2*G.number_of_edges())/(G.number_of_nodes()*(G.number_of_nodes() - 1))\n",
    "                \n",
    "    return G, density"
   ]
  },
  {
   "cell_type": "code",
   "execution_count": 28,
   "metadata": {},
   "outputs": [
    {
     "name": "stdout",
     "output_type": "stream",
     "text": [
      "num examples: 42, matrix dim: 90\n"
     ]
    }
   ],
   "source": [
    "print(\"num examples: %d, matrix dim: %d\" % (num_examples, dim))"
   ]
  },
  {
   "cell_type": "code",
   "execution_count": 29,
   "metadata": {},
   "outputs": [],
   "source": [
    "corr_mat = corr_tensor[int(num_examples/2), :, :].copy()\n",
    "        \n",
    "corr_mat[(corr_mat > -1*0.2) & (corr_mat < 0.2)] = 0\n",
    "G, density = make_graph(corr_mat, nodes, 'corr')"
   ]
  },
  {
   "cell_type": "code",
   "execution_count": 21,
   "metadata": {
    "scrolled": false
   },
   "outputs": [
    {
     "name": "stdout",
     "output_type": "stream",
     "text": [
      "count: 10\n",
      "count: 20\n",
      "count: 30\n",
      "count: 40\n",
      "count: 50\n",
      "count: 60\n"
     ]
    }
   ],
   "source": [
    "# Run classical max clique algm\n",
    "from networkx.algorithms.approximation.independent_set import maximum_independent_set as mis\n",
    "\n",
    "indset_array = []\n",
    "set_size_array = []\n",
    "date_array = []\n",
    "density_array = []\n",
    "time_array = []\n",
    "threshold_array = []\n",
    "\n",
    "\n",
    "count = 0\n",
    "for i in np.arange(0.1, 1, 0.1):\n",
    "    for j in range(1, int(num_examples/5)):\n",
    "        \n",
    "        corr_mat = corr_tensor[j*5, :, :].copy()\n",
    "        corr_mat[(corr_mat > -1*i) & (corr_mat < i)] = 0\n",
    "        \n",
    "        G, density = make_graph(corr_mat, nodes, 'corr')\n",
    "        \n",
    "        count += 1\n",
    "        if count % 10 == 0: print(\"count: %d\" % (count))\n",
    "        \n",
    "        try:\n",
    "            t = time.clock()\n",
    "            max_ind_set = mis(G)\n",
    "            run_time = time.clock() - t\n",
    "            set_size = len(max_ind_set)\n",
    "        \n",
    "        except Exception as err:\n",
    "            print(err)\n",
    "            print(\"Error on matrix %d with threshold %f\" % (j*5, i))\n",
    "            \n",
    "        else:\n",
    "            indset_array.append(max_ind_set)\n",
    "            set_size_array.append(set_size)\n",
    "            density_array.append(density)\n",
    "            time_array.append(run_time)\n",
    "            date_array.append(dates[j*5])\n",
    "            threshold_array.append(i)"
   ]
  },
  {
   "cell_type": "code",
   "execution_count": 22,
   "metadata": {},
   "outputs": [],
   "source": [
    "assert len(indset_array) == len(date_array) == len(density_array) == len(set_size_array) == len(time_array)"
   ]
  },
  {
   "cell_type": "code",
   "execution_count": 24,
   "metadata": {},
   "outputs": [],
   "source": [
    "os.chdir(\"../result_files\")\n",
    "\n",
    "# Create Pandas DataFrame for class results\n",
    "pd.DataFrame(data={\"date\": date_array, \"threshold\": threshold_array, \"density\": density_array,\n",
    "                \"max_ind_set\": indset_array, \"set_size\": set_size_array,\n",
    "                \"computation_time\": time_array}).to_csv(\"indset_class_%s_res.csv\" % (dataset))"
   ]
  },
  {
   "cell_type": "code",
   "execution_count": null,
   "metadata": {},
   "outputs": [],
   "source": []
  }
 ],
 "metadata": {
  "kernelspec": {
   "display_name": "Python 3",
   "language": "python",
   "name": "python3"
  },
  "language_info": {
   "codemirror_mode": {
    "name": "ipython",
    "version": 3
   },
   "file_extension": ".py",
   "mimetype": "text/x-python",
   "name": "python",
   "nbconvert_exporter": "python",
   "pygments_lexer": "ipython3",
   "version": "3.6.4"
  }
 },
 "nbformat": 4,
 "nbformat_minor": 2
}
